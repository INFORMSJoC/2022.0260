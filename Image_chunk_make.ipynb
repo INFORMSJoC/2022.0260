{
 "cells": [
  {
   "cell_type": "code",
   "execution_count": 1,
   "metadata": {},
   "outputs": [],
   "source": [
    "# make some forders\n",
    "import os\n",
    "os.mkdir('E:/image')\n",
    "os.mkdir('E:/image/out01')\n",
    "os.mkdir('E:/image/out02')\n",
    "os.mkdir('E:/image/image_chunk')\n",
    "os.mkdir('E:/image/label_chunk')\n",
    "os.mkdir('E:/image/out05')\n",
    "os.mkdir('E:/image/test_chunk')"
   ]
  },
  {
   "cell_type": "code",
   "execution_count": 2,
   "metadata": {},
   "outputs": [
    {
     "name": "stdout",
     "output_type": "stream",
     "text": [
      "Done!\n",
      "Done!\n"
     ]
    }
   ],
   "source": [
    "# loading the images and make chunk for the images\n",
    "import cv2\n",
    "import os\n",
    " \n",
    "dirpath = 'D:/U-NET_Project/log2/log/Image'\n",
    "destDirectory = 'E:/image/out01'\n",
    "for file in os.listdir(dirpath):\n",
    "    try:\n",
    "        image = cv2.imread(os.path.join(dirpath, file))\n",
    "        #image = cv2.imread(os.path.join(dirpath, file), cv2.IMREAD_GRAYSCALE)\n",
    "        size = image.shape[1]\n",
    "        \n",
    "        for a,i in enumerate(range(0,size,256),1):\n",
    "            if (size-i) < 256:\n",
    "                s_thresh = image[:, (size-256):size]\n",
    "                cv2.imwrite(os.path.join(destDirectory, os.path.splitext(file)[0]) + '_' + str(a) + '.png', s_thresh)\n",
    "            else :\n",
    "                s_thresh = image[:, i:(i+256)]\n",
    "                cv2.imwrite(os.path.join(destDirectory, os.path.splitext(file)[0]) + '_' + str(a) + '.png', s_thresh)\n",
    "    except:\n",
    "        print(\"%s is not vaild image file\" %file)\n",
    "        \n",
    "print (\"Done!\")\n",
    "\n",
    "\n",
    "dirpath = 'D:/U-NET_Project/log2/log/label'\n",
    "destDirectory = 'E:/image/out02'\n",
    "for file in os.listdir(dirpath):\n",
    "    try:\n",
    "        #image = cv2.imread(os.path.join(dirpath, file))\n",
    "        image = cv2.imread(os.path.join(dirpath, file), cv2.IMREAD_GRAYSCALE)\n",
    "        size = image.shape[1]\n",
    "        \n",
    "        for a,i in enumerate(range(0,size,256),1):\n",
    "            if (size-i) < 256:\n",
    "                s_thresh = image[:, (size-256):size]\n",
    "                cv2.imwrite(os.path.join(destDirectory, os.path.splitext(file)[0]) + '_' + str(a) + '.png', s_thresh)\n",
    "            else :\n",
    "                s_thresh = image[:, i:(i+256)]\n",
    "                cv2.imwrite(os.path.join(destDirectory, os.path.splitext(file)[0]) + '_' +  str(a) + '.png', s_thresh)\n",
    "    except:\n",
    "        print(\"%s is not vaild image file\" %file)\n",
    "        \n",
    "print (\"Done!\")"
   ]
  },
  {
   "cell_type": "code",
   "execution_count": 3,
   "metadata": {},
   "outputs": [
    {
     "name": "stdout",
     "output_type": "stream",
     "text": [
      "Done!\n",
      "Done!\n"
     ]
    }
   ],
   "source": [
    "import cv2\n",
    "import os\n",
    " \n",
    "dirpath = 'E:/image/out01'\n",
    "destDirectory = 'E:/image/image_chunk'\n",
    "for file in os.listdir(dirpath):\n",
    "    try:\n",
    "        image = cv2.imread(os.path.join(dirpath, file))\n",
    "        #image = cv2.imread(os.path.join(dirpath, file), cv2.IMREAD_GRAYSCALE)\n",
    "        size = image.shape[0]\n",
    "        \n",
    "        for a,i in enumerate(range(0,size,256),1):\n",
    "            if (size-i) < 256:\n",
    "                s_thresh = image[(size-256):size,:]\n",
    "                cv2.imwrite(os.path.join(destDirectory, os.path.splitext(file)[0]) + '_' + str(a) + '.png', s_thresh)\n",
    "            else :\n",
    "                s_thresh = image[i:(i+256),:]\n",
    "                cv2.imwrite(os.path.join(destDirectory, os.path.splitext(file)[0]) + '_' + str(a) + '.png', s_thresh)\n",
    "    except:\n",
    "        print(\"%s is not vaild image file\" %file)\n",
    "        \n",
    "print (\"Done!\")\n",
    "\n",
    "dirpath = 'E:/image/out02'\n",
    "destDirectory = 'E:/image/label_chunk'\n",
    "for file in os.listdir(dirpath):\n",
    "    try:\n",
    "        #image = cv2.imread(os.path.join(dirpath, file))\n",
    "        image = cv2.imread(os.path.join(dirpath, file), cv2.IMREAD_GRAYSCALE)\n",
    "        size = image.shape[0]\n",
    "        \n",
    "        for a,i in enumerate(range(0,size,256),1):\n",
    "            if (size-i) < 256:\n",
    "                s_thresh = image[(size-256):size,:]\n",
    "                cv2.imwrite(os.path.join(destDirectory, os.path.splitext(file)[0]) + '_' + str(a) + '.png', s_thresh)\n",
    "            else :\n",
    "                s_thresh = image[i:(i+256),:]\n",
    "                cv2.imwrite(os.path.join(destDirectory, os.path.splitext(file)[0]) + '_' +  str(a) + '.png', s_thresh)\n",
    "    except:\n",
    "        print(\"%s is not vaild image file\" %file)\n",
    "        \n",
    "print (\"Done!\")"
   ]
  },
  {
   "cell_type": "code",
   "execution_count": 4,
   "metadata": {},
   "outputs": [
    {
     "name": "stdout",
     "output_type": "stream",
     "text": [
      "Done!\n",
      "Done!\n"
     ]
    }
   ],
   "source": [
    "import cv2\n",
    "import os\n",
    " \n",
    "dirpath = 'D:/U-NET_Project/log2/log/test'\n",
    "destDirectory = 'E:/image/out05'\n",
    "for file in os.listdir(dirpath):\n",
    "    try:\n",
    "        image = cv2.imread(os.path.join(dirpath, file))\n",
    "        #image = cv2.imread(os.path.join(dirpath, file), cv2.IMREAD_GRAYSCALE)\n",
    "        size = image.shape[1]\n",
    "        \n",
    "        for a,i in enumerate(range(0,size,256),1):\n",
    "            if (size-i) < 256:\n",
    "                s_thresh = image[:, (size-256):size]\n",
    "                cv2.imwrite(os.path.join(destDirectory, os.path.splitext(file)[0]) + '_' + str(a) + '.png', s_thresh)\n",
    "            else :\n",
    "                s_thresh = image[:, i:(i+256)]\n",
    "                cv2.imwrite(os.path.join(destDirectory, os.path.splitext(file)[0]) + '_' + str(a) + '.png', s_thresh)\n",
    "    except:\n",
    "        print(\"%s is not vaild image file\" %file)\n",
    "        \n",
    "print (\"Done!\")\n",
    "\n",
    "import cv2\n",
    "import os\n",
    " \n",
    "dirpath = 'E:/image/out05'\n",
    "destDirectory = 'E:/image/test_chunk'\n",
    "for file in os.listdir(dirpath):\n",
    "    try:\n",
    "        image = cv2.imread(os.path.join(dirpath, file))\n",
    "        #image = cv2.imread(os.path.join(dirpath, file), cv2.IMREAD_GRAYSCALE)\n",
    "        size = image.shape[0]\n",
    "        \n",
    "        for a,i in enumerate(range(0,size,256),1):\n",
    "            if (size-i) < 256:\n",
    "                s_thresh = image[(size-256):size,:]\n",
    "                cv2.imwrite(os.path.join(destDirectory, os.path.splitext(file)[0]) + '_' + str(a) + '.png', s_thresh)\n",
    "            else :\n",
    "                s_thresh = image[i:(i+256),:]\n",
    "                cv2.imwrite(os.path.join(destDirectory, os.path.splitext(file)[0]) + '_' + str(a) + '.png', s_thresh)\n",
    "    except:\n",
    "        print(\"%s is not vaild image file\" %file)\n",
    "        \n",
    "print (\"Done!\")"
   ]
  },
  {
   "cell_type": "code",
   "execution_count": null,
   "metadata": {},
   "outputs": [],
   "source": []
  }
 ],
 "metadata": {
  "kernelspec": {
   "display_name": "Python 3",
   "language": "python",
   "name": "python3"
  },
  "language_info": {
   "codemirror_mode": {
    "name": "ipython",
    "version": 3
   },
   "file_extension": ".py",
   "mimetype": "text/x-python",
   "name": "python",
   "nbconvert_exporter": "python",
   "pygments_lexer": "ipython3",
   "version": "3.7.4"
  }
 },
 "nbformat": 4,
 "nbformat_minor": 2
}
